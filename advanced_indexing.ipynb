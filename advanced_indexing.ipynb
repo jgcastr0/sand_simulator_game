{
 "cells": [
  {
   "cell_type": "code",
   "execution_count": 74,
   "metadata": {},
   "outputs": [],
   "source": [
    "import numpy as np\n",
    "\n",
    "array = np.array([[0, 0, 0, 0, 0, 0,],\n",
    "                  [0, 0, 0, 0, 0, 0,],\n",
    "                  [0, 0, 0, 0, 0, 0,],\n",
    "                  [0, 0, 1, 1, 1, 0,],\n",
    "                  [0, 0, 0, 0, 0, 0,],\n",
    "                  [0, 0, 0, 0, 0, 0,],])\n"
   ]
  },
  {
   "cell_type": "code",
   "execution_count": 77,
   "metadata": {},
   "outputs": [
    {
     "name": "stdout",
     "output_type": "stream",
     "text": [
      "[[0 0 0 0 0 0]\n",
      " [0 0 0 0 0 0]\n",
      " [0 0 0 0 0 0]\n",
      " [0 0 0 0 0 1]\n",
      " [0 0 0 0 0 0]\n",
      " [0 0 0 0 0 0]]\n",
      "[[False False False False False]\n",
      " [False False False False False]\n",
      " [False False False False False]\n",
      " [False False False False  True]\n",
      " [False False False False False]\n",
      " [False False False False False]]\n"
     ]
    }
   ],
   "source": [
    "down = (array[:, :-1] == 1) & (array[:, 1:] == 0)\n",
    "array[:, :-1][down] = 0\n",
    "array[:, 1:][down] = 1\n",
    "\n",
    "\n",
    "print(array)\n",
    "print(down)"
   ]
  }
 ],
 "metadata": {
  "kernelspec": {
   "display_name": "Python 3",
   "language": "python",
   "name": "python3"
  },
  "language_info": {
   "codemirror_mode": {
    "name": "ipython",
    "version": 3
   },
   "file_extension": ".py",
   "mimetype": "text/x-python",
   "name": "python",
   "nbconvert_exporter": "python",
   "pygments_lexer": "ipython3",
   "version": "3.12.0"
  }
 },
 "nbformat": 4,
 "nbformat_minor": 2
}
